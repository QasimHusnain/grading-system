per : str = int(input("Enter your percentage"))
Grade : int | float = None
if per >= 80:
    Grade = "A+"
elif per >= 70:
    Grade = "A"
elif per >= 60:
    Grade = "B"
elif per >= 50:
    Grade = "C"
elif per >= 40:
    Grade = "D"
elif per >= 33:
    Grade = "E"
else: 
    Grade = "F"
print(f"Dear, student your percentage is {per}% \nYou got a Grade: {Grade}")
